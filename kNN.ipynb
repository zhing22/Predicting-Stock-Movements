{
  "cells": [
    {
      "cell_type": "markdown",
      "metadata": {
        "id": "u8PcldbT9Un3"
      },
      "source": [
        "# Reading the data"
      ]
    },
    {
      "cell_type": "code",
      "execution_count": 1,
      "metadata": {
        "colab": {
          "base_uri": "https://localhost:8080/"
        },
        "id": "LKmxDrMeyEYI",
        "outputId": "a9148c65-9a12-440b-fcfd-bc4c3e992b29"
      },
      "outputs": [
        {
          "output_type": "stream",
          "name": "stdout",
          "text": [
            "Mounted at /content/drive\n"
          ]
        }
      ],
      "source": [
        "from google.colab import drive\n",
        "drive.mount('/content/drive')"
      ]
    },
    {
      "cell_type": "code",
      "execution_count": 2,
      "metadata": {
        "id": "abykvGxBE-3Q"
      },
      "outputs": [],
      "source": [
        "import pandas as pd\n",
        "import numpy as np\n",
        "from sklearn import preprocessing\n",
        "import time"
      ]
    },
    {
      "cell_type": "code",
      "execution_count": 3,
      "metadata": {
        "id": "lCcvq2Nt5xQ0"
      },
      "outputs": [],
      "source": [
        "path = \"/content/drive/MyDrive/data/CS3244_parsed_data.csv\"\n",
        "df = pd.read_csv(path)\n",
        "df = df.rename(columns = {'Unnamed: 0' :'index'})\n",
        "df['date'] = pd.to_datetime(df['date'])\n",
        "df['year'] = df['date'].dt.year\n"
      ]
    },
    {
      "cell_type": "code",
      "execution_count": 4,
      "metadata": {
        "id": "wM47PB823yYc"
      },
      "outputs": [],
      "source": [
        "train_year = [2005, 2006, 2007, 2009, 2010, 2011, 2013, 2014, 2015, 2016]\n",
        "test_year = [2012, 2017]\n",
        "\n",
        "df_train = df[df['year'].isin(train_year)]\n",
        "df_test = df[df['year'].isin(test_year)]"
      ]
    },
    {
      "cell_type": "code",
      "execution_count": 5,
      "metadata": {
        "id": "JSTeYHJMY4l0"
      },
      "outputs": [],
      "source": [
        "from datetime import date\n",
        "from sklearn.model_selection import train_test_split\n",
        "from sklearn import neighbors\n",
        "from sklearn.metrics import mean_squared_error, precision_score, f1_score"
      ]
    },
    {
      "cell_type": "markdown",
      "metadata": {
        "id": "SnU-wVLbm-oa"
      },
      "source": [
        "# Checking imbalance of data\n"
      ]
    },
    {
      "cell_type": "code",
      "execution_count": null,
      "metadata": {
        "id": "3ZzYjlxANtku"
      },
      "outputs": [],
      "source": [
        "def check_values(df_labels):\n",
        "  countNeg, count0, count1 = 0, 0, 0\n",
        "  for i in range(0, len(df[[df_labels]])):\n",
        "    value = df[df_labels][i]\n",
        "    if value == -1:\n",
        "      countNeg +=1\n",
        "    elif value == 0:\n",
        "      count0 += 1\n",
        "    elif value == 1:\n",
        "      count1 += 1 \n",
        "  return countNeg, count0, count1"
      ]
    },
    {
      "cell_type": "code",
      "execution_count": null,
      "metadata": {
        "colab": {
          "base_uri": "https://localhost:8080/"
        },
        "id": "h46eZgz-nB05",
        "outputId": "10da9bf4-ec3b-45cf-c175-15d5fae7e8ad"
      },
      "outputs": [
        {
          "name": "stdout",
          "output_type": "stream",
          "text": [
            "80971 73393 87711\n",
            "percentage of +1 in the data is 0.362\n"
          ]
        }
      ],
      "source": [
        "countNeg, count0, count1 = check_values('dirNext1')\n",
        "print(countNeg, count0, count1)\n",
        "percentage = round(count1/(countNeg + count0 + count1), 3)\n",
        "print(\"percentage of +1 in the data is\", percentage)"
      ]
    },
    {
      "cell_type": "code",
      "execution_count": null,
      "metadata": {
        "colab": {
          "base_uri": "https://localhost:8080/"
        },
        "id": "C82C0mJonhab",
        "outputId": "5163a04c-c59c-45fb-d129-52dd17f4d852"
      },
      "outputs": [
        {
          "name": "stdout",
          "output_type": "stream",
          "text": [
            "69584 72852 99639\n",
            "percentage of +1 in the data is 0.412\n"
          ]
        }
      ],
      "source": [
        "countNeg, count0, count1 = check_values('dirNext7')\n",
        "print(countNeg, count0, count1)\n",
        "percentage = round(count1/(countNeg + count0 + count1), 3)\n",
        "print(\"percentage of +1 in the data is\", percentage)"
      ]
    },
    {
      "cell_type": "code",
      "execution_count": null,
      "metadata": {
        "colab": {
          "base_uri": "https://localhost:8080/"
        },
        "id": "TnqeWXMBoEvw",
        "outputId": "2a61d934-a1ec-4c72-fa94-85af62f132a3"
      },
      "outputs": [
        {
          "name": "stdout",
          "output_type": "stream",
          "text": [
            "55547 73192 113336\n",
            "percentage of +1 in the data is 0.468\n"
          ]
        }
      ],
      "source": [
        "countNeg, count0, count1 = check_values('dirNext30')\n",
        "print(countNeg, count0, count1)\n",
        "percentage = round(count1/(countNeg + count0 + count1), 3)\n",
        "print(\"percentage of +1 in the data is\", percentage)"
      ]
    },
    {
      "cell_type": "markdown",
      "metadata": {
        "id": "Oe8tHfzAXYV1"
      },
      "source": []
    },
    {
      "cell_type": "markdown",
      "metadata": {
        "id": "Kap1C4_w562Q"
      },
      "source": [
        "# Helper function"
      ]
    },
    {
      "cell_type": "code",
      "execution_count": 12,
      "metadata": {
        "id": "mV3hTSRe8Qu2"
      },
      "outputs": [],
      "source": [
        "def knn_scores(xtrain, ytrain, xtest, ytest, a, b):\n",
        "  kval = list(range(15, 100, 2))\n",
        "  score_test = []\n",
        "  mse_test_score = []\n",
        "  f_score = []\n",
        "\n",
        "  for k in range(a, b, 2): \n",
        "    knn = neighbors.KNeighborsClassifier(n_neighbors = k, metric='euclidean')\n",
        "    knn_model = knn.fit(xtrain, ytrain)\n",
        "    test = knn_model.score(xtest, ytest)\n",
        "    score_test.append(test)\n",
        "\n",
        "    predicted_test_labels = knn.predict(xtest)\n",
        "    predicted_train_labels = knn.predict(xtrain)\n",
        "\n",
        "    # evaluation metrics returned: mse, precision, f1 score\n",
        "    mse_test_score.append(mean_squared_error(ytest, predicted_test_labels))\n",
        "    f_score.append(f1_score(ytest, predicted_test_labels, average = 'micro'))\n",
        "\n",
        "  return kval, score_test, mse_test_score, f_score"
      ]
    },
    {
      "cell_type": "markdown",
      "metadata": {
        "id": "iHC5M26h76Q3"
      },
      "source": [
        "# kNN with df1"
      ]
    },
    {
      "cell_type": "code",
      "execution_count": 7,
      "metadata": {
        "id": "D0Yguy5f33wz"
      },
      "outputs": [],
      "source": [
        "df1_features = [\"avg7\", \"sd7\", \"range7\", \"vol7\", \"dir7\", \"tend7\", \"RSI\", \"stosc\", \"MACD\", \"dirNext1\"]"
      ]
    },
    {
      "cell_type": "code",
      "execution_count": 8,
      "metadata": {
        "id": "cKAB_fe37ed-"
      },
      "outputs": [],
      "source": [
        "df1_Xtrain = df_train[[\"avg7\", \"sd7\", \"range7\", \"vol7\", \"dir7\", \"tend7\", \"RSI\", \"stosc\", \"MACD\"]].copy() \n",
        "df1_ytrain = df_train['dirNext1'].copy()\n",
        "df1_Xtest = df_test[[\"avg7\", \"sd7\", \"range7\", \"vol7\", \"dir7\", \"tend7\", \"RSI\", \"stosc\", \"MACD\"]].copy()\n",
        "df1_ytest = df_test['dirNext1'].copy()"
      ]
    },
    {
      "cell_type": "code",
      "execution_count": null,
      "metadata": {
        "id": "Ooh2t9Qc79EG"
      },
      "outputs": [],
      "source": [
        "# do preliminary model for 30-day avg\n",
        "start = time.time()\n",
        "k, score_test1, mse_test1, f_score1= knn_scores(df1_Xtrain, df1_ytrain, df1_Xtest, df1_ytest, 15, 100)\n",
        "end = time.time()"
      ]
    },
    {
      "cell_type": "code",
      "execution_count": null,
      "metadata": {
        "colab": {
          "base_uri": "https://localhost:8080/",
          "height": 435
        },
        "id": "FF6-inLFfszf",
        "outputId": "d27f2366-c9e3-449f-f4ee-0798a781bd1e"
      },
      "outputs": [
        {
          "name": "stdout",
          "output_type": "stream",
          "text": [
            "Time taken: 506.822 \n",
            "k = 17\n",
            "The minimum MSE is 1.384\n",
            "The f1 score is 0.338\n",
            "The test score is 0.338\n",
            "k = 54\n",
            "The maximum f1 score is 0.342\n",
            "The MSE is 1.443\n",
            "The test score is 0.342\n"
          ]
        },
        {
          "data": {
            "image/png": "[encoded data removed]",
            "text/plain": [
              "<Figure size 432x288 with 1 Axes>"
            ]
          },
          "metadata": {},
          "output_type": "display_data"
        }
      ],
      "source": [
        "import matplotlib.pyplot as plt\n",
        "print(\"Time taken: %s \" % round(end-start, 3))\n",
        "# finding k when MSE is lowest and precision is highest\n",
        "minMSE1 = min(mse_test1)\n",
        "bestK_MSE1 = mse_test1.index(minMSE1) + 15\n",
        "maxF11 = max(f_score1)\n",
        "bestK_F11 = f_score1.index(maxF11) + 15\n",
        "\n",
        "# finding the rest of the values at the above k-values\n",
        "if bestK_F11 != bestK_MSE1:\n",
        "  print(\"k =\", bestK_MSE1)\n",
        "  print(\"The minimum MSE is\", round(minMSE1, 3))\n",
        "  print(\"The f1 score is\", round(f_score1[bestK_MSE1-15], 3))\n",
        "  print(\"The test score is\", round(score_test1[bestK_MSE1-15], 3))\n",
        "  print(\"k =\", bestK_F11)\n",
        "  print(\"The maximum f1 score is\", round(maxF11, 3))\n",
        "  print(\"The MSE is\", round(mse_test1[bestK_F11-15], 3))  \n",
        "  print(\"The test score is\", round(score_test1[bestK_F11-15], 3))\n",
        "else:\n",
        "  print(\"k =\", bestK_MSE1)\n",
        "  print(\"The minimum MSE is\", round(minMSE1, 3))\n",
        "  print(\"The maximum f1 score is\", round(maxF11, 3))\n",
        "  print(\"The test score is\", round(score_test1[bestK_MSE1-15], 3))\n",
        "\n",
        "# visualising the data\n",
        "plt.plot(k, mse_test1, label = 'MSE')\n",
        "plt.plot(k, score_test1, label = 'test score')\n",
        "plt.plot(k, f_score1, label = 'f1 score')\n",
        "\n",
        "if bestK_F11 != bestK_MSE1:\n",
        "  plt.axvline(x = bestK_F11, c = 'black', linestyle = '-')\n",
        "  plt.axvline(x = bestK_MSE1, c= 'black', linestyle = '--')\n",
        "  plt.text(bestK_F11 + 2, 0.9, 'k = %s' % (bestK_F11), fontsize = 11)\n",
        "  plt.text(bestK_MSE1 + 2, 0.7, 'k = %s' % (bestK_MSE1), fontsize = 11)\n",
        "else:\n",
        "  plt.axvline(x = bestK_F11, c = 'black')\n",
        "  plt.text(bestK_F11 + 2, 0.9, 'k = %s' % (bestK_F11), fontsize = 11)\n",
        "plt.xlabel('k-value')\n",
        "plt.legend()\n",
        "plt.show()"
      ]
    },
    {
      "cell_type": "markdown",
      "metadata": {
        "id": "eKq-D0-e7uQS"
      },
      "source": [
        "# kNN with df7"
      ]
    },
    {
      "cell_type": "code",
      "execution_count": null,
      "metadata": {
        "id": "197BC4B89FJW"
      },
      "outputs": [],
      "source": [
        "df7_features = [\"avg7\", \"sd7\", \"range7\", \"vol7\", \"dir7\", \"tend7\", \"RSI\", \"stosc\", \"MACD\", \"dirNext7\"]"
      ]
    },
    {
      "cell_type": "code",
      "execution_count": null,
      "metadata": {
        "id": "5VtPRk4ZFR5s"
      },
      "outputs": [],
      "source": [
        "df7_Xtrain = df_train[[\"avg7\", \"sd7\", \"range7\", \"vol7\", \"dir7\", \"tend7\", \"RSI\", \"stosc\", \"MACD\"]].copy() \n",
        "df7_ytrain = df_train['dirNext7'].copy()\n",
        "df7_Xtest = df_test[[\"avg7\", \"sd7\", \"range7\", \"vol7\", \"dir7\", \"tend7\", \"RSI\", \"stosc\", \"MACD\"]].copy()\n",
        "df7_ytest = df_test['dirNext7'].copy()"
      ]
    },
    {
      "cell_type": "code",
      "execution_count": null,
      "metadata": {
        "id": "3BnhGaGJHW81"
      },
      "outputs": [],
      "source": [
        "# train the model \n",
        "start7 = time.time()\n",
        "k, score_test7, mse_test7, f_score7 = knn_scores(df7_Xtrain, df7_ytrain, df7_Xtest, df7_ytest, 15, 100)\n",
        "end7 = time.time()"
      ]
    },
    {
      "cell_type": "code",
      "execution_count": null,
      "metadata": {
        "colab": {
          "base_uri": "https://localhost:8080/",
          "height": 406
        },
        "id": "ocsOYzKdjxeV",
        "outputId": "214ee708-2292-4036-bbfd-33defa58326a"
      },
      "outputs": [
        {
          "name": "stdout",
          "output_type": "stream",
          "text": [
            "k = 50\n",
            "At k = 50 the minimum MSE is 1.292\n",
            "At k = 50 the f1 score is 0.291\n",
            "At k = 50 the test score is 0.409\n",
            "k = 16\n",
            "At k = 16 the maximum f1 score is 0.331\n",
            "At k = 16 the MSE is 1.338\n",
            "At k = 16 the test score is 0.361\n"
          ]
        },
        {
          "data": {
            "image/png": "[encoded data removed]",
            "text/plain": [
              "<Figure size 432x288 with 1 Axes>"
            ]
          },
          "metadata": {},
          "output_type": "display_data"
        }
      ],
      "source": [
        "import matplotlib.pyplot as plt\n",
        "print(\"Time taken: %s \" % round(end7-start7, 3))\n",
        "# finding k when MSE is lowest and precision is highest\n",
        "minMSE7 = min(mse_test7)\n",
        "bestK_MSE7 = mse_test7.index(minMSE7) + 15\n",
        "maxF17 = max(f_score7)\n",
        "bestK_F17 = f_score7.index(maxF17) + 15\n",
        "\n",
        "# finding the rest of the values at the above k-values\n",
        "if bestK_F17 != bestK_MSE7:\n",
        "  print(\"k =\", bestK_MSE7)\n",
        "  print(\"At k =\", bestK_MSE7, \"the minimum MSE is\", round(minMSE7, 3))\n",
        "  print(\"At k =\", bestK_MSE7, \"the f1 score is\", round(f_score7[bestK_MSE7-15], 3))\n",
        "  print(\"At k =\", bestK_MSE7, \"the test score is\", round(score_test7[bestK_MSE7-15], 3))\n",
        "  print(\"k =\", bestK_F17)\n",
        "  print(\"At k =\", bestK_F17, \"the maximum f1 score is\", round(maxF17, 3))\n",
        "  print(\"At k =\", bestK_F17, \"the MSE is\", round(mse_test7[bestK_F17-15], 3))  \n",
        "  print(\"At k =\", bestK_F17, \"the test score is\", round(score_test7[bestK_F17-15], 3))\n",
        "else:\n",
        "  print(\"At k =\", bestK_MSE7, \"the minimum MSE is\", round(minMSE7, 3))\n",
        "  print(\"At k =\", bestK_MSE7, \"the maximum f1 score is\", round(bestK_F17, 3))\n",
        "  print(\"At k =\", bestK_MSE7, \"the test score is\", round(score_test7[bestK_MSE7-15], 3))\n",
        "\n",
        "# visualising the data\n",
        "plt.plot(k, mse_test7, label = 'MSE')\n",
        "plt.plot(k, score_test7, label = 'test score')\n",
        "plt.plot(k, f_score7, label = 'f1 score')\n",
        "\n",
        "if bestK_F17 != bestK_MSE7:\n",
        "  plt.axvline(x = bestK_F17, c = 'black', linestyle = '-')\n",
        "  plt.axvline(x = bestK_MSE7, c= 'black', linestyle = '--')\n",
        "else:\n",
        "  plt.axvline(x = bestK_F17, c = 'black')\n",
        "plt.legend()\n",
        "plt.show()"
      ]
    },
    {
      "cell_type": "markdown",
      "metadata": {
        "id": "MjYnYa3B8sNm"
      },
      "source": [
        "# kNN with df30"
      ]
    },
    {
      "cell_type": "code",
      "execution_count": 7,
      "metadata": {
        "id": "cuANgMlyLO7m"
      },
      "outputs": [],
      "source": [
        "df30_Xtrain = df_train[[\"avg30\", \"sd30\", \"range30\", \"vol30\", \"dir30\", \"tend30\", \"RSI\", \"stosc\", \"MACD\"]].copy() \n",
        "df30_ytrain = df_train['dirNext30'].copy()\n",
        "df30_Xtest = df_test[[\"avg30\", \"sd30\", \"range30\", \"vol30\", \"dir30\", \"tend30\", \"RSI\", \"stosc\", \"MACD\"]].copy()\n",
        "df30_ytest = df_test['dirNext30'].copy()\n",
        "df30_features = [\"avg30\", \"sd30\", \"range30\", \"vol30\", \"dir30\", \"tend30\", \"RSI\", \"stosc\", \"MACD\"]"
      ]
    },
    {
      "cell_type": "code",
      "execution_count": null,
      "metadata": {
        "id": "c7tzAJyR9vcw"
      },
      "outputs": [],
      "source": [
        "import matplotlib.pyplot as plt\n",
        "# train the model \n",
        "start30 = time.time()\n",
        "k, score_test30, mse_test30, f_score30 = knn_scores(df30_Xtrain, df30_ytrain, df30_Xtest, df30_ytest, 15, 100)\n",
        "end30 = time.time()"
      ]
    },
    {
      "cell_type": "code",
      "execution_count": null,
      "metadata": {
        "colab": {
          "base_uri": "https://localhost:8080/",
          "height": 421
        },
        "id": "5oCPhWjk2gyr",
        "outputId": "76d59f96-7dd7-4e86-ec6f-6f38feb13dee"
      },
      "outputs": [
        {
          "name": "stdout",
          "output_type": "stream",
          "text": [
            "Time taken: 452.38 \n",
            "k = 54\n",
            "At k = 54 the minimum MSE is 0.88\n",
            "At k = 54 the f1 score is 0.53\n",
            "At k = 54 the test score is 0.53\n",
            "k = 57\n",
            "At k = 57 the maximum f1 score is 0.53\n",
            "At k = 57 the MSE is 0.88\n",
            "At k = 57 the test score is 0.53\n"
          ]
        },
        {
          "data": {
            "image/png": "[encoded data removed]",
            "text/plain": [
              "<Figure size 432x288 with 1 Axes>"
            ]
          },
          "metadata": {},
          "output_type": "display_data"
        }
      ],
      "source": [
        "import matplotlib.pyplot as plt\n",
        "print(\"Time taken: %s \" % round(end30-start30, 3))\n",
        "# finding k when MSE is lowest and precision is highest\n",
        "minMSE30 = min(mse_test30)\n",
        "bestK_MSE30 = mse_test30.index(minMSE30) + 15\n",
        "maxF130 = max(f_score30)\n",
        "bestK_F130 = f_score30.index(maxF130) + 15\n",
        "\n",
        "# finding the rest of the values at the above k-values\n",
        "if bestK_F130 != bestK_MSE30:\n",
        "  print(\"k =\", bestK_MSE30)\n",
        "  print(\"At k =\", bestK_MSE30, \"the minimum MSE is\", round(minMSE30, 3))\n",
        "  print(\"At k =\", bestK_MSE30, \"the f1 score is\", round(f_score30[bestK_MSE30-15], 3))\n",
        "  print(\"At k =\", bestK_MSE30, \"the test score is\", round(score_test30[bestK_MSE30-15], 3))\n",
        "  print(\"k =\", bestK_F130)\n",
        "  print(\"At k =\", bestK_F130, \"the maximum f1 score is\", round(maxF130, 3))\n",
        "  print(\"At k =\", bestK_F130, \"the MSE is\", round(mse_test30[bestK_F130-15], 3))  \n",
        "  print(\"At k =\", bestK_F130, \"the test score is\", round(score_test30[bestK_F130-15], 3))\n",
        "else:\n",
        "  print(\"At k =\", bestK_MSE30, \"the minimum MSE is\", round(minMSE30, 3))\n",
        "  print(\"At k =\", bestK_MSE30, \"the maximum f1 score is\", round(bestK_F130, 3))\n",
        "  print(\"At k =\", bestK_MSE30, \"the test score is\", round(score_test30[bestK_MSE30-15], 3))\n",
        "\n",
        "# visualising the data\n",
        "plt.plot(k, mse_test30, label = 'MSE')\n",
        "plt.plot(k, score_test30, label = 'test score')\n",
        "plt.plot(k, f_score30, label = 'f1 score')\n",
        "\n",
        "if bestK_F130 != bestK_MSE30:\n",
        "  plt.axvline(x = bestK_F130, c = 'black', linestyle = '-')\n",
        "  plt.axvline(x = bestK_MSE30, c= 'black', linestyle = '--')\n",
        "else:\n",
        "  plt.axvline(x = bestK_F130, c = 'black')\n",
        "plt.legend()\n",
        "plt.show()"
      ]
    },
    {
      "cell_type": "markdown",
      "metadata": {
        "id": "zs7Z-DrLJr6h"
      },
      "source": [
        "# Feature Selection with df30"
      ]
    },
    {
      "cell_type": "code",
      "execution_count": 8,
      "metadata": {
        "id": "zErXgstTDOhc"
      },
      "outputs": [],
      "source": [
        "df30_features = [\"avg30\", \"sd30\", \"range30\", \"vol30\", \"dir30\", \"tend30\", \"RSI\", \"stosc\", \"MACD\"]"
      ]
    },
    {
      "cell_type": "code",
      "execution_count": 9,
      "metadata": {
        "id": "CNaNpihU7OFD"
      },
      "outputs": [],
      "source": [
        "df30_Xtrain = df_train[[\"avg30\", \"sd30\", \"range30\", \"vol30\", \"dir30\", \"tend30\", \"RSI\", \"stosc\", \"MACD\"]].copy() \n",
        "df30_ytrain = df_train['dirNext30'].copy()\n",
        "df30_Xtest = df_test[[\"avg30\", \"sd30\", \"range30\", \"vol30\", \"dir30\", \"tend30\", \"RSI\", \"stosc\", \"MACD\"]].copy()\n",
        "df30_ytest = df_test['dirNext30'].copy()"
      ]
    },
    {
      "cell_type": "code",
      "execution_count": null,
      "metadata": {
        "colab": {
          "base_uri": "https://localhost:8080/"
        },
        "id": "tF3MmwGRJvY6",
        "outputId": "b5c6fd19-b3de-4f93-bb65-f70f59829c56"
      },
      "outputs": [
        {
          "name": "stdout",
          "output_type": "stream",
          "text": [
            "[0.02679563 0.00826922 0.14648459 0.00434353 0.00965062 0.00927149\n",
            " 0.00713725 0.00652089 0.01005883]\n",
            "['avg30', 'range30']\n"
          ]
        }
      ],
      "source": [
        "# use information gain to determine which feature to remove (we have 8 features)\n",
        "from sklearn.feature_selection import mutual_info_classif as MIC\n",
        "\n",
        "mi_score = MIC(df30_Xtrain, df30_ytrain)\n",
        "feature_list = []\n",
        "print(mi_score)\n",
        "\n",
        "for i in range(0, len(mi_score)):\n",
        "  if mi_score[i] >= 0.02:\n",
        "    feature_list.append(df30_features[i])\n",
        "print(feature_list)"
      ]
    },
    {
      "cell_type": "markdown",
      "metadata": {
        "id": "1Ecs0AhqLHok"
      },
      "source": [
        "The top 3 features that has the highest Mutual Information score are ['range30', 'dir30', 'stosc']. We will run the knn model on these models and then add on other features to determine if these models give a better result."
      ]
    },
    {
      "cell_type": "code",
      "execution_count": 10,
      "metadata": {
        "id": "jqmX2QZODtOE"
      },
      "outputs": [],
      "source": [
        "df30_X = df30_Xtrain[['avg30', 'range30']].copy() \n",
        "df30_y = df30_ytrain.copy()\n",
        "xtest30 = df30_Xtest[['avg30', 'range30']].copy()\n",
        "ytest30 = df30_ytest.copy()"
      ]
    },
    {
      "cell_type": "code",
      "execution_count": 16,
      "metadata": {
        "id": "zfmfxX2COmLG",
        "colab": {
          "base_uri": "https://localhost:8080/",
          "height": 432
        },
        "outputId": "69c57397-79c4-4b1d-d805-baffc187bbe3"
      },
      "outputs": [
        {
          "output_type": "error",
          "ename": "KeyboardInterrupt",
          "evalue": "ignored",
          "traceback": [
            "\u001b[0;31m---------------------------------------------------------------------------\u001b[0m",
            "\u001b[0;31mKeyboardInterrupt\u001b[0m                         Traceback (most recent call last)",
            "\u001b[0;32m<ipython-input-16-aa1b52a4146f>\u001b[0m in \u001b[0;36m<module>\u001b[0;34m\u001b[0m\n\u001b[1;32m      4\u001b[0m \u001b[0;31m# train the model\u001b[0m\u001b[0;34m\u001b[0m\u001b[0;34m\u001b[0m\u001b[0;34m\u001b[0m\u001b[0m\n\u001b[1;32m      5\u001b[0m \u001b[0mstart_fs30\u001b[0m \u001b[0;34m=\u001b[0m \u001b[0mtime\u001b[0m\u001b[0;34m.\u001b[0m\u001b[0mtime\u001b[0m\u001b[0;34m(\u001b[0m\u001b[0;34m)\u001b[0m\u001b[0;34m\u001b[0m\u001b[0;34m\u001b[0m\u001b[0m\n\u001b[0;32m----> 6\u001b[0;31m \u001b[0mk\u001b[0m\u001b[0;34m,\u001b[0m \u001b[0mscore_test30\u001b[0m\u001b[0;34m,\u001b[0m \u001b[0mmse_test30\u001b[0m\u001b[0;34m,\u001b[0m \u001b[0mf_score30\u001b[0m \u001b[0;34m=\u001b[0m \u001b[0mknn_scores\u001b[0m\u001b[0;34m(\u001b[0m\u001b[0mdf30_X\u001b[0m\u001b[0;34m,\u001b[0m \u001b[0mdf30_y\u001b[0m\u001b[0;34m,\u001b[0m \u001b[0mxtest30\u001b[0m\u001b[0;34m,\u001b[0m \u001b[0mytest30\u001b[0m\u001b[0;34m,\u001b[0m \u001b[0;36m15\u001b[0m\u001b[0;34m,\u001b[0m \u001b[0;36m100\u001b[0m\u001b[0;34m)\u001b[0m\u001b[0;34m\u001b[0m\u001b[0;34m\u001b[0m\u001b[0m\n\u001b[0m\u001b[1;32m      7\u001b[0m \u001b[0mend_fs30\u001b[0m \u001b[0;34m=\u001b[0m \u001b[0mtime\u001b[0m\u001b[0;34m.\u001b[0m\u001b[0mtime\u001b[0m\u001b[0;34m(\u001b[0m\u001b[0;34m)\u001b[0m\u001b[0;34m\u001b[0m\u001b[0;34m\u001b[0m\u001b[0m\n\u001b[1;32m      8\u001b[0m \u001b[0mprint\u001b[0m\u001b[0;34m(\u001b[0m\u001b[0;34m\"Time taken: %s\"\u001b[0m \u001b[0;34m%\u001b[0m \u001b[0;34m(\u001b[0m\u001b[0mround\u001b[0m\u001b[0;34m(\u001b[0m\u001b[0mend_fs30\u001b[0m\u001b[0;34m-\u001b[0m\u001b[0mstart_fs30\u001b[0m\u001b[0;34m,\u001b[0m \u001b[0;36m3\u001b[0m\u001b[0;34m)\u001b[0m\u001b[0;34m)\u001b[0m\u001b[0;34m)\u001b[0m\u001b[0;34m\u001b[0m\u001b[0;34m\u001b[0m\u001b[0m\n",
            "\u001b[0;32m<ipython-input-12-d29085a09fa0>\u001b[0m in \u001b[0;36mknn_scores\u001b[0;34m(xtrain, ytrain, xtest, ytest, a, b)\u001b[0m\n\u001b[1;32m     11\u001b[0m     \u001b[0mscore_test\u001b[0m\u001b[0;34m.\u001b[0m\u001b[0mappend\u001b[0m\u001b[0;34m(\u001b[0m\u001b[0mtest\u001b[0m\u001b[0;34m)\u001b[0m\u001b[0;34m\u001b[0m\u001b[0;34m\u001b[0m\u001b[0m\n\u001b[1;32m     12\u001b[0m \u001b[0;34m\u001b[0m\u001b[0m\n\u001b[0;32m---> 13\u001b[0;31m     \u001b[0mpredicted_test_labels\u001b[0m \u001b[0;34m=\u001b[0m \u001b[0mknn\u001b[0m\u001b[0;34m.\u001b[0m\u001b[0mpredict\u001b[0m\u001b[0;34m(\u001b[0m\u001b[0mxtest\u001b[0m\u001b[0;34m)\u001b[0m\u001b[0;34m\u001b[0m\u001b[0;34m\u001b[0m\u001b[0m\n\u001b[0m\u001b[1;32m     14\u001b[0m     \u001b[0mpredicted_train_labels\u001b[0m \u001b[0;34m=\u001b[0m \u001b[0mknn\u001b[0m\u001b[0;34m.\u001b[0m\u001b[0mpredict\u001b[0m\u001b[0;34m(\u001b[0m\u001b[0mxtrain\u001b[0m\u001b[0;34m)\u001b[0m\u001b[0;34m\u001b[0m\u001b[0;34m\u001b[0m\u001b[0m\n\u001b[1;32m     15\u001b[0m \u001b[0;34m\u001b[0m\u001b[0m\n",
            "\u001b[0;32m/usr/local/lib/python3.7/dist-packages/sklearn/neighbors/_classification.py\u001b[0m in \u001b[0;36mpredict\u001b[0;34m(self, X)\u001b[0m\n\u001b[1;32m    226\u001b[0m         \u001b[0;32mfor\u001b[0m \u001b[0mk\u001b[0m\u001b[0;34m,\u001b[0m \u001b[0mclasses_k\u001b[0m \u001b[0;32min\u001b[0m \u001b[0menumerate\u001b[0m\u001b[0;34m(\u001b[0m\u001b[0mclasses_\u001b[0m\u001b[0;34m)\u001b[0m\u001b[0;34m:\u001b[0m\u001b[0;34m\u001b[0m\u001b[0;34m\u001b[0m\u001b[0m\n\u001b[1;32m    227\u001b[0m             \u001b[0;32mif\u001b[0m \u001b[0mweights\u001b[0m \u001b[0;32mis\u001b[0m \u001b[0;32mNone\u001b[0m\u001b[0;34m:\u001b[0m\u001b[0;34m\u001b[0m\u001b[0;34m\u001b[0m\u001b[0m\n\u001b[0;32m--> 228\u001b[0;31m                 \u001b[0mmode\u001b[0m\u001b[0;34m,\u001b[0m \u001b[0m_\u001b[0m \u001b[0;34m=\u001b[0m \u001b[0mstats\u001b[0m\u001b[0;34m.\u001b[0m\u001b[0mmode\u001b[0m\u001b[0;34m(\u001b[0m\u001b[0m_y\u001b[0m\u001b[0;34m[\u001b[0m\u001b[0mneigh_ind\u001b[0m\u001b[0;34m,\u001b[0m \u001b[0mk\u001b[0m\u001b[0;34m]\u001b[0m\u001b[0;34m,\u001b[0m \u001b[0maxis\u001b[0m\u001b[0;34m=\u001b[0m\u001b[0;36m1\u001b[0m\u001b[0;34m)\u001b[0m\u001b[0;34m\u001b[0m\u001b[0;34m\u001b[0m\u001b[0m\n\u001b[0m\u001b[1;32m    229\u001b[0m             \u001b[0;32melse\u001b[0m\u001b[0;34m:\u001b[0m\u001b[0;34m\u001b[0m\u001b[0;34m\u001b[0m\u001b[0m\n\u001b[1;32m    230\u001b[0m                 \u001b[0mmode\u001b[0m\u001b[0;34m,\u001b[0m \u001b[0m_\u001b[0m \u001b[0;34m=\u001b[0m \u001b[0mweighted_mode\u001b[0m\u001b[0;34m(\u001b[0m\u001b[0m_y\u001b[0m\u001b[0;34m[\u001b[0m\u001b[0mneigh_ind\u001b[0m\u001b[0;34m,\u001b[0m \u001b[0mk\u001b[0m\u001b[0;34m]\u001b[0m\u001b[0;34m,\u001b[0m \u001b[0mweights\u001b[0m\u001b[0;34m,\u001b[0m \u001b[0maxis\u001b[0m\u001b[0;34m=\u001b[0m\u001b[0;36m1\u001b[0m\u001b[0;34m)\u001b[0m\u001b[0;34m\u001b[0m\u001b[0;34m\u001b[0m\u001b[0m\n",
            "\u001b[0;32m/usr/local/lib/python3.7/dist-packages/scipy/stats/stats.py\u001b[0m in \u001b[0;36mmode\u001b[0;34m(a, axis, nan_policy)\u001b[0m\n\u001b[1;32m    446\u001b[0m     \u001b[0mcounts\u001b[0m \u001b[0;34m=\u001b[0m \u001b[0mnp\u001b[0m\u001b[0;34m.\u001b[0m\u001b[0mempty\u001b[0m\u001b[0;34m(\u001b[0m\u001b[0ma_view\u001b[0m\u001b[0;34m.\u001b[0m\u001b[0mshape\u001b[0m\u001b[0;34m[\u001b[0m\u001b[0;34m:\u001b[0m\u001b[0;34m-\u001b[0m\u001b[0;36m1\u001b[0m\u001b[0;34m]\u001b[0m\u001b[0;34m,\u001b[0m \u001b[0mdtype\u001b[0m\u001b[0;34m=\u001b[0m\u001b[0mnp\u001b[0m\u001b[0;34m.\u001b[0m\u001b[0mint_\u001b[0m\u001b[0;34m)\u001b[0m\u001b[0;34m\u001b[0m\u001b[0;34m\u001b[0m\u001b[0m\n\u001b[1;32m    447\u001b[0m     \u001b[0;32mfor\u001b[0m \u001b[0mind\u001b[0m \u001b[0;32min\u001b[0m \u001b[0minds\u001b[0m\u001b[0;34m:\u001b[0m\u001b[0;34m\u001b[0m\u001b[0;34m\u001b[0m\u001b[0m\n\u001b[0;32m--> 448\u001b[0;31m         \u001b[0mmodes\u001b[0m\u001b[0;34m[\u001b[0m\u001b[0mind\u001b[0m\u001b[0;34m]\u001b[0m\u001b[0;34m,\u001b[0m \u001b[0mcounts\u001b[0m\u001b[0;34m[\u001b[0m\u001b[0mind\u001b[0m\u001b[0;34m]\u001b[0m \u001b[0;34m=\u001b[0m \u001b[0m_mode1D\u001b[0m\u001b[0;34m(\u001b[0m\u001b[0ma_view\u001b[0m\u001b[0;34m[\u001b[0m\u001b[0mind\u001b[0m\u001b[0;34m]\u001b[0m\u001b[0;34m)\u001b[0m\u001b[0;34m\u001b[0m\u001b[0;34m\u001b[0m\u001b[0m\n\u001b[0m\u001b[1;32m    449\u001b[0m     \u001b[0mnewshape\u001b[0m \u001b[0;34m=\u001b[0m \u001b[0mlist\u001b[0m\u001b[0;34m(\u001b[0m\u001b[0ma\u001b[0m\u001b[0;34m.\u001b[0m\u001b[0mshape\u001b[0m\u001b[0;34m)\u001b[0m\u001b[0;34m\u001b[0m\u001b[0;34m\u001b[0m\u001b[0m\n\u001b[1;32m    450\u001b[0m     \u001b[0mnewshape\u001b[0m\u001b[0;34m[\u001b[0m\u001b[0maxis\u001b[0m\u001b[0;34m]\u001b[0m \u001b[0;34m=\u001b[0m \u001b[0;36m1\u001b[0m\u001b[0;34m\u001b[0m\u001b[0;34m\u001b[0m\u001b[0m\n",
            "\u001b[0;32m/usr/local/lib/python3.7/dist-packages/scipy/stats/stats.py\u001b[0m in \u001b[0;36m_mode1D\u001b[0;34m(a)\u001b[0m\n\u001b[1;32m    432\u001b[0m \u001b[0;34m\u001b[0m\u001b[0m\n\u001b[1;32m    433\u001b[0m     \u001b[0;32mdef\u001b[0m \u001b[0m_mode1D\u001b[0m\u001b[0;34m(\u001b[0m\u001b[0ma\u001b[0m\u001b[0;34m)\u001b[0m\u001b[0;34m:\u001b[0m\u001b[0;34m\u001b[0m\u001b[0;34m\u001b[0m\u001b[0m\n\u001b[0;32m--> 434\u001b[0;31m         \u001b[0mvals\u001b[0m\u001b[0;34m,\u001b[0m \u001b[0mcnts\u001b[0m \u001b[0;34m=\u001b[0m \u001b[0mnp\u001b[0m\u001b[0;34m.\u001b[0m\u001b[0munique\u001b[0m\u001b[0;34m(\u001b[0m\u001b[0ma\u001b[0m\u001b[0;34m,\u001b[0m \u001b[0mreturn_counts\u001b[0m\u001b[0;34m=\u001b[0m\u001b[0;32mTrue\u001b[0m\u001b[0;34m)\u001b[0m\u001b[0;34m\u001b[0m\u001b[0;34m\u001b[0m\u001b[0m\n\u001b[0m\u001b[1;32m    435\u001b[0m         \u001b[0;32mreturn\u001b[0m \u001b[0mvals\u001b[0m\u001b[0;34m[\u001b[0m\u001b[0mcnts\u001b[0m\u001b[0;34m.\u001b[0m\u001b[0margmax\u001b[0m\u001b[0;34m(\u001b[0m\u001b[0;34m)\u001b[0m\u001b[0;34m]\u001b[0m\u001b[0;34m,\u001b[0m \u001b[0mcnts\u001b[0m\u001b[0;34m.\u001b[0m\u001b[0mmax\u001b[0m\u001b[0;34m(\u001b[0m\u001b[0;34m)\u001b[0m\u001b[0;34m\u001b[0m\u001b[0;34m\u001b[0m\u001b[0m\n\u001b[1;32m    436\u001b[0m \u001b[0;34m\u001b[0m\u001b[0m\n",
            "\u001b[0;32m<__array_function__ internals>\u001b[0m in \u001b[0;36munique\u001b[0;34m(*args, **kwargs)\u001b[0m\n",
            "\u001b[0;32m/usr/local/lib/python3.7/dist-packages/numpy/lib/arraysetops.py\u001b[0m in \u001b[0;36munique\u001b[0;34m(ar, return_index, return_inverse, return_counts, axis)\u001b[0m\n\u001b[1;32m    270\u001b[0m     \u001b[0mar\u001b[0m \u001b[0;34m=\u001b[0m \u001b[0mnp\u001b[0m\u001b[0;34m.\u001b[0m\u001b[0masanyarray\u001b[0m\u001b[0;34m(\u001b[0m\u001b[0mar\u001b[0m\u001b[0;34m)\u001b[0m\u001b[0;34m\u001b[0m\u001b[0;34m\u001b[0m\u001b[0m\n\u001b[1;32m    271\u001b[0m     \u001b[0;32mif\u001b[0m \u001b[0maxis\u001b[0m \u001b[0;32mis\u001b[0m \u001b[0;32mNone\u001b[0m\u001b[0;34m:\u001b[0m\u001b[0;34m\u001b[0m\u001b[0;34m\u001b[0m\u001b[0m\n\u001b[0;32m--> 272\u001b[0;31m         \u001b[0mret\u001b[0m \u001b[0;34m=\u001b[0m \u001b[0m_unique1d\u001b[0m\u001b[0;34m(\u001b[0m\u001b[0mar\u001b[0m\u001b[0;34m,\u001b[0m \u001b[0mreturn_index\u001b[0m\u001b[0;34m,\u001b[0m \u001b[0mreturn_inverse\u001b[0m\u001b[0;34m,\u001b[0m \u001b[0mreturn_counts\u001b[0m\u001b[0;34m)\u001b[0m\u001b[0;34m\u001b[0m\u001b[0;34m\u001b[0m\u001b[0m\n\u001b[0m\u001b[1;32m    273\u001b[0m         \u001b[0;32mreturn\u001b[0m \u001b[0m_unpack_tuple\u001b[0m\u001b[0;34m(\u001b[0m\u001b[0mret\u001b[0m\u001b[0;34m)\u001b[0m\u001b[0;34m\u001b[0m\u001b[0;34m\u001b[0m\u001b[0m\n\u001b[1;32m    274\u001b[0m \u001b[0;34m\u001b[0m\u001b[0m\n",
            "\u001b[0;31mKeyboardInterrupt\u001b[0m: "
          ]
        }
      ],
      "source": [
        "# run knn with these features to find out if the accuracy is the same as those with more features added into this current set\n",
        "# do preliminary model for 30-day avg to choose k\n",
        "import matplotlib.pyplot as plt\n",
        "# train the model \n",
        "start_fs30 = time.time()\n",
        "k, score_test30, mse_test30, f_score30 = knn_scores(df30_X, df30_y, xtest30, ytest30, 15, 100)\n",
        "end_fs30 = time.time()\n",
        "print(\"Time taken: %s\" % (round(end_fs30-start_fs30, 3)))\n"
      ]
    },
    {
      "cell_type": "code",
      "execution_count": 14,
      "metadata": {
        "colab": {
          "base_uri": "https://localhost:8080/",
          "height": 334
        },
        "id": "xMp1W65_eY1W",
        "outputId": "5f4781c3-8883-4a37-85b2-ee83fdd207d4"
      },
      "outputs": [
        {
          "output_type": "stream",
          "name": "stdout",
          "text": [
            "Time taken: 440.585\n",
            "At k = 57 the minimum MSE is 1.024\n",
            "At k = 57 the maximum f1 score is 0.456\n",
            "At k = 57 the test score is 0.456\n"
          ]
        },
        {
          "output_type": "display_data",
          "data": {
            "text/plain": [
              "<Figure size 432x288 with 1 Axes>"
            ],
            "image/png": "[encoded data removed]"
          },
          "metadata": {
            "needs_background": "light"
          }
        }
      ],
      "source": [
        "import matplotlib.pyplot as plt\n",
        "print(\"Time taken: %s\" % (round(end_fs30-start_fs30, 3)))\n",
        "# finding k when MSE is lowest and precision is highest\n",
        "minMSE30 = min(mse_test30)\n",
        "bestK_MSE30 = mse_test30.index(minMSE30) + 15\n",
        "maxF130 = max(f_score30)\n",
        "bestK_F130 = f_score30.index(maxF130) + 15\n",
        "\n",
        "# finding the rest of the values at the above k-values\n",
        "if bestK_F130 != bestK_MSE30:\n",
        "  print(\"k =\", bestK_MSE30)\n",
        "  print(\"At k =\", bestK_MSE30, \"the minimum MSE is\", round(minMSE30, 3))\n",
        "  print(\"At k =\", bestK_MSE30, \"the f1 score is\", round(f_score30[bestK_MSE30-15], 3))\n",
        "  print(\"At k =\", bestK_MSE30, \"the test score is\", round(score_test30[bestK_MSE30-15], 3))\n",
        "  print(\"k =\", bestK_F130)\n",
        "  print(\"At k =\", bestK_F130, \"the maximum f1 score is\", round(maxF130, 3))\n",
        "  print(\"At k =\", bestK_F130, \"the MSE is\", round(mse_test30[bestK_F130-15], 3))  \n",
        "  print(\"At k =\", bestK_F130, \"the test score is\", round(score_test30[bestK_F130-15], 3))\n",
        "else:\n",
        "  print(\"At k =\", bestK_MSE30, \"the minimum MSE is\", round(minMSE30, 3))\n",
        "  print(\"At k =\", bestK_MSE30, \"the maximum f1 score is\", round(maxF130, 3))\n",
        "  print(\"At k =\", bestK_MSE30, \"the test score is\", round(score_test30[bestK_MSE30-15], 3))\n",
        "\n",
        "# visualising the data\n",
        "plt.plot(k, mse_test30, label = 'MSE')\n",
        "plt.plot(k, score_test30, label = 'test score')\n",
        "plt.plot(k, f_score30, label = 'f1 score')\n",
        "\n",
        "if bestK_F130 != bestK_MSE30:\n",
        "  plt.axvline(x = bestK_F130, c = 'black', linestyle = '-')\n",
        "  plt.axvline(x = bestK_MSE30, c= 'black', linestyle = '--')\n",
        "else:\n",
        "  plt.axvline(x = bestK_F130, c = 'black')\n",
        "plt.legend()\n",
        "plt.show()"
      ]
    },
    {
      "cell_type": "markdown",
      "metadata": {
        "id": "BgcbEu0sO8fA"
      },
      "source": [
        "Results:"
      ]
    },
    {
      "cell_type": "code",
      "execution_count": 15,
      "metadata": {
        "colab": {
          "base_uri": "https://localhost:8080/",
          "height": 1000
        },
        "id": "XxOw70huJvdP",
        "outputId": "bd089c41-2a7b-4833-b00d-db772958f572"
      },
      "outputs": [
        {
          "output_type": "stream",
          "name": "stdout",
          "text": [
            "\n",
            "The features used in this iteration are: ['avg30', 'range30', 'sd30']\n",
            "At k = 57 the minimum MSE is 1.023\n",
            "At k = 57 the maximum f1 score is 0.455\n",
            "At k = 57 the test score is 0.455\n"
          ]
        },
        {
          "output_type": "display_data",
          "data": {
            "text/plain": [
              "<Figure size 432x288 with 1 Axes>"
            ],
            "image/png": "[encoded data removed]"
          },
          "metadata": {
            "needs_background": "light"
          }
        },
        {
          "output_type": "stream",
          "name": "stdout",
          "text": [
            "\n",
            "The features used in this iteration are: ['avg30', 'range30', 'vol30']\n",
            "k = 54\n",
            "At k = 54 the minimum MSE is 0.88\n",
            "At k = 54 the f1 score is 0.53\n",
            "At k = 54 the test score is 0.53\n",
            "k = 57\n",
            "At k = 57 the maximum f1 score is 0.53\n",
            "At k = 57 the MSE is 0.88\n",
            "At k = 57 the test score is 0.53\n"
          ]
        },
        {
          "output_type": "display_data",
          "data": {
            "text/plain": [
              "<Figure size 432x288 with 1 Axes>"
            ],
            "image/png": "[encoded data removed]"
          },
          "metadata": {
            "needs_background": "light"
          }
        },
        {
          "output_type": "stream",
          "name": "stdout",
          "text": [
            "\n",
            "The features used in this iteration are: ['avg30', 'range30', 'dir30']\n",
            "k = 56\n",
            "At k = 56 the minimum MSE is 0.982\n",
            "At k = 56 the f1 score is 0.46\n",
            "At k = 56 the test score is 0.46\n",
            "k = 54\n",
            "At k = 54 the maximum f1 score is 0.461\n",
            "At k = 54 the MSE is 0.985\n",
            "At k = 54 the test score is 0.461\n"
          ]
        },
        {
          "output_type": "display_data",
          "data": {
            "text/plain": [
              "<Figure size 432x288 with 1 Axes>"
            ],
            "image/png": "[encoded data removed]"
          },
          "metadata": {
            "needs_background": "light"
          }
        },
        {
          "output_type": "stream",
          "name": "stdout",
          "text": [
            "\n",
            "The features used in this iteration are: ['avg30', 'range30', 'tend30']\n",
            "At k = 57 the minimum MSE is 1.02\n",
            "At k = 57 the maximum f1 score is 0.456\n",
            "At k = 57 the test score is 0.456\n"
          ]
        },
        {
          "output_type": "display_data",
          "data": {
            "text/plain": [
              "<Figure size 432x288 with 1 Axes>"
            ],
            "image/png": "[encoded data removed]"
          },
          "metadata": {
            "needs_background": "light"
          }
        },
        {
          "output_type": "stream",
          "name": "stdout",
          "text": [
            "\n",
            "The features used in this iteration are: ['avg30', 'range30', 'RSI']\n",
            "At k = 57 the minimum MSE is 0.955\n",
            "At k = 57 the maximum f1 score is 0.481\n",
            "At k = 57 the test score is 0.481\n"
          ]
        },
        {
          "output_type": "display_data",
          "data": {
            "text/plain": [
              "<Figure size 432x288 with 1 Axes>"
            ],
            "image/png": "[encoded data removed]"
          },
          "metadata": {
            "needs_background": "light"
          }
        },
        {
          "output_type": "stream",
          "name": "stdout",
          "text": [
            "\n",
            "The features used in this iteration are: ['avg30', 'range30', 'stosc']\n",
            "At k = 57 the minimum MSE is 0.913\n",
            "At k = 57 the maximum f1 score is 0.506\n",
            "At k = 57 the test score is 0.506\n"
          ]
        },
        {
          "output_type": "display_data",
          "data": {
            "text/plain": [
              "<Figure size 432x288 with 1 Axes>"
            ],
            "image/png": "[encoded data removed]"
          },
          "metadata": {
            "needs_background": "light"
          }
        },
        {
          "output_type": "stream",
          "name": "stdout",
          "text": [
            "\n",
            "The features used in this iteration are: ['avg30', 'range30', 'MACD']\n",
            "At k = 57 the minimum MSE is 1.007\n",
            "At k = 57 the maximum f1 score is 0.45\n",
            "At k = 57 the test score is 0.45\n"
          ]
        },
        {
          "output_type": "display_data",
          "data": {
            "text/plain": [
              "<Figure size 432x288 with 1 Axes>"
            ],
            "image/png": "[encoded data removed]"
          },
          "metadata": {
            "needs_background": "light"
          }
        }
      ],
      "source": [
        "import itertools\n",
        "df30_currFt = ['avg30', 'range30']\n",
        "df30_features_iter = [\"sd30\", \"vol30\", \"dir30\", \"tend30\", \"RSI\", \"stosc\", \"MACD\"]\n",
        "\n",
        "for i in range(1, 2):\n",
        "  ft_set = itertools.combinations(df30_features_iter, i)\n",
        "  for s in ft_set:\n",
        "    df_cols = df30_currFt + list(s)\n",
        "    print()\n",
        "    print(\"The features used in this iteration are:\", df_cols)   \n",
        "    df30_X = df30_Xtrain[df_cols].copy() \n",
        "    df30_y = df30_ytrain.copy()\n",
        "    xtest30 = df30_Xtest[df_cols].copy()\n",
        "    ytest30 = df30_ytest.copy()  \n",
        "\n",
        "    # train the model \n",
        "    k, score_test30, mse_test30, f_score30 = knn_scores(df30_X, df30_y, xtest30, ytest30, 15, 100)\n",
        "    \n",
        "    # finding k when MSE is lowest and precision is highest\n",
        "    minMSE30 = min(mse_test30)\n",
        "    bestK_MSE30 = mse_test30.index(minMSE30) + 15\n",
        "    maxF130 = max(f_score30)\n",
        "    bestK_F130 = f_score30.index(maxF130) + 15\n",
        "\n",
        "    # finding the rest of the values at the above k-values\n",
        "    if bestK_F130 != bestK_MSE30:\n",
        "      print(\"k =\", bestK_MSE30)\n",
        "      print(\"At k =\", bestK_MSE30, \"the minimum MSE is\", round(minMSE30, 3))\n",
        "      print(\"At k =\", bestK_MSE30, \"the f1 score is\", round(f_score30[bestK_MSE30-15], 3))\n",
        "      print(\"At k =\", bestK_MSE30, \"the test score is\", round(score_test30[bestK_MSE30-15], 3))\n",
        "      print(\"k =\", bestK_F130)\n",
        "      print(\"At k =\", bestK_F130, \"the maximum f1 score is\", round(maxF130, 3))\n",
        "      print(\"At k =\", bestK_F130, \"the MSE is\", round(mse_test30[bestK_F130-15], 3))  \n",
        "      print(\"At k =\", bestK_F130, \"the test score is\", round(score_test30[bestK_F130-15], 3))\n",
        "    else:\n",
        "      print(\"At k =\", bestK_MSE30, \"the minimum MSE is\", round(minMSE30, 3))\n",
        "      print(\"At k =\", bestK_MSE30, \"the maximum f1 score is\", round(maxF130, 3))\n",
        "      print(\"At k =\", bestK_MSE30, \"the test score is\", round(score_test30[bestK_MSE30-15], 3))\n",
        "\n",
        "    # visualising the data\n",
        "    plt.plot(k, mse_test30, label = 'MSE')\n",
        "    plt.plot(k, score_test30, label = 'test score')\n",
        "    plt.plot(k, f_score30, label = 'f1 score')\n",
        "\n",
        "    if bestK_F130 != bestK_MSE30:\n",
        "      plt.axvline(x = bestK_F130, c = 'black', linestyle = '-')\n",
        "      plt.axvline(x = bestK_MSE30, c= 'black', linestyle = '--')\n",
        "    else:\n",
        "      plt.axvline(x = bestK_F130, c = 'black')\n",
        "    plt.legend()\n",
        "    plt.show()"
      ]
    },
    {
      "cell_type": "code",
      "source": [
        "df30_X = df30_Xtrain[['avg30', 'range30', 'vol30']].copy() \n",
        "df30_y = df30_ytrain.copy()\n",
        "xtest30 = df30_Xtest[['avg30', 'range30','vol30']].copy()\n",
        "ytest30 = df30_ytest.copy()\n",
        "\n",
        "start_fs30 = time.time()\n",
        "k, score_test30, mse_test30, f_score30 = knn_scores(df30_X, df30_y, xtest30, ytest30, 15, 100)\n",
        "end_fs30 = time.time()"
      ],
      "metadata": {
        "id": "wT-m2AK5Mnk0"
      },
      "execution_count": 17,
      "outputs": []
    },
    {
      "cell_type": "code",
      "source": [
        "print(\"Time taken: %s\" % (round(end_fs30-start_fs30, 3)))"
      ],
      "metadata": {
        "colab": {
          "base_uri": "https://localhost:8080/"
        },
        "id": "v0Shn6yhOqvA",
        "outputId": "b3f627d6-103e-4754-d2dc-a14b512b156e"
      },
      "execution_count": 18,
      "outputs": [
        {
          "output_type": "stream",
          "name": "stdout",
          "text": [
            "Time taken: 408.438\n"
          ]
        }
      ]
    },
    {
      "cell_type": "markdown",
      "metadata": {
        "id": "1ZsVxRCt23tU"
      },
      "source": [
        "# LIME"
      ]
    },
    {
      "cell_type": "code",
      "execution_count": 20,
      "metadata": {
        "colab": {
          "base_uri": "https://localhost:8080/"
        },
        "id": "4kvcfzFY3Br_",
        "outputId": "e4ba76e2-0b91-4b3d-b786-41db45c61692"
      },
      "outputs": [
        {
          "output_type": "stream",
          "name": "stdout",
          "text": [
            "Looking in indexes: https://pypi.org/simple, https://us-python.pkg.dev/colab-wheels/public/simple/\n",
            "Collecting lime\n",
            "  Downloading lime-0.2.0.1.tar.gz (275 kB)\n",
            "\u001b[K     |████████████████████████████████| 275 kB 5.2 MB/s \n",
            "\u001b[?25hRequirement already satisfied: matplotlib in /usr/local/lib/python3.7/dist-packages (from lime) (3.2.2)\n",
            "Requirement already satisfied: numpy in /usr/local/lib/python3.7/dist-packages (from lime) (1.21.6)\n",
            "Requirement already satisfied: scipy in /usr/local/lib/python3.7/dist-packages (from lime) (1.7.3)\n",
            "Requirement already satisfied: tqdm in /usr/local/lib/python3.7/dist-packages (from lime) (4.64.1)\n",
            "Requirement already satisfied: scikit-learn>=0.18 in /usr/local/lib/python3.7/dist-packages (from lime) (1.0.2)\n",
            "Requirement already satisfied: scikit-image>=0.12 in /usr/local/lib/python3.7/dist-packages (from lime) (0.18.3)\n",
            "Requirement already satisfied: networkx>=2.0 in /usr/local/lib/python3.7/dist-packages (from scikit-image>=0.12->lime) (2.6.3)\n",
            "Requirement already satisfied: PyWavelets>=1.1.1 in /usr/local/lib/python3.7/dist-packages (from scikit-image>=0.12->lime) (1.3.0)\n",
            "Requirement already satisfied: pillow!=7.1.0,!=7.1.1,>=4.3.0 in /usr/local/lib/python3.7/dist-packages (from scikit-image>=0.12->lime) (7.1.2)\n",
            "Requirement already satisfied: imageio>=2.3.0 in /usr/local/lib/python3.7/dist-packages (from scikit-image>=0.12->lime) (2.9.0)\n",
            "Requirement already satisfied: tifffile>=2019.7.26 in /usr/local/lib/python3.7/dist-packages (from scikit-image>=0.12->lime) (2021.11.2)\n",
            "Requirement already satisfied: pyparsing!=2.0.4,!=2.1.2,!=2.1.6,>=2.0.1 in /usr/local/lib/python3.7/dist-packages (from matplotlib->lime) (3.0.9)\n",
            "Requirement already satisfied: python-dateutil>=2.1 in /usr/local/lib/python3.7/dist-packages (from matplotlib->lime) (2.8.2)\n",
            "Requirement already satisfied: cycler>=0.10 in /usr/local/lib/python3.7/dist-packages (from matplotlib->lime) (0.11.0)\n",
            "Requirement already satisfied: kiwisolver>=1.0.1 in /usr/local/lib/python3.7/dist-packages (from matplotlib->lime) (1.4.4)\n",
            "Requirement already satisfied: typing-extensions in /usr/local/lib/python3.7/dist-packages (from kiwisolver>=1.0.1->matplotlib->lime) (4.1.1)\n",
            "Requirement already satisfied: six>=1.5 in /usr/local/lib/python3.7/dist-packages (from python-dateutil>=2.1->matplotlib->lime) (1.15.0)\n",
            "Requirement already satisfied: threadpoolctl>=2.0.0 in /usr/local/lib/python3.7/dist-packages (from scikit-learn>=0.18->lime) (3.1.0)\n",
            "Requirement already satisfied: joblib>=0.11 in /usr/local/lib/python3.7/dist-packages (from scikit-learn>=0.18->lime) (1.2.0)\n",
            "Building wheels for collected packages: lime\n",
            "  Building wheel for lime (setup.py) ... \u001b[?25l\u001b[?25hdone\n",
            "  Created wheel for lime: filename=lime-0.2.0.1-py3-none-any.whl size=283857 sha256=82bb5faeb3387892edbbd783dec5df38e0ebb57e43fd49065e03332d90b36fe2\n",
            "  Stored in directory: /root/.cache/pip/wheels/ca/cb/e5/ac701e12d365a08917bf4c6171c0961bc880a8181359c66aa7\n",
            "Successfully built lime\n",
            "Installing collected packages: lime\n",
            "Successfully installed lime-0.2.0.1\n"
          ]
        }
      ],
      "source": [
        "pip install lime"
      ]
    },
    {
      "cell_type": "code",
      "execution_count": 21,
      "metadata": {
        "id": "hU6Uh81P3Bgi"
      },
      "outputs": [],
      "source": [
        "import lime\n",
        "import lime.lime_tabular"
      ]
    },
    {
      "cell_type": "code",
      "source": [
        "df30_X = df30_Xtrain[['avg30', 'range30', 'vol30']].copy() \n",
        "df30_y = df30_ytrain.copy()\n",
        "xtest30 = df30_Xtest[['avg30', 'range30', 'vol30']].copy()\n",
        "ytest30 = df30_ytest.copy()\n",
        "feature_name = df30_X.columns\n",
        "class_name = [1, 0, -1]"
      ],
      "metadata": {
        "id": "DUdoakQIW1lO"
      },
      "execution_count": 31,
      "outputs": []
    },
    {
      "cell_type": "code",
      "source": [
        "explainer = lime.lime_tabular.LimeTabularExplainer(np.array(df30_X), feature_names = feature_name, \n",
        "                                                   class_names = class_name, discretize_continuous=True)"
      ],
      "metadata": {
        "id": "qyjNPPpxWmGY"
      },
      "execution_count": 40,
      "outputs": []
    },
    {
      "cell_type": "code",
      "source": [
        "knn = neighbors.KNeighborsClassifier(n_neighbors = 57, metric='euclidean')\n",
        "#knn_model = \n",
        "knn.fit(df30_X, df30_y)"
      ],
      "metadata": {
        "colab": {
          "base_uri": "https://localhost:8080/"
        },
        "id": "EXzm57jyhxIk",
        "outputId": "62e91c71-910e-4f23-da70-bbb3ddf77431"
      },
      "execution_count": 41,
      "outputs": [
        {
          "output_type": "execute_result",
          "data": {
            "text/plain": [
              "KNeighborsClassifier(metric='euclidean', n_neighbors=57)"
            ]
          },
          "metadata": {},
          "execution_count": 41
        }
      ]
    },
    {
      "cell_type": "code",
      "source": [
        "exp = explainer.explain_instance(np.array(xtest30.iloc[4]),  knn.predict_proba, num_features=3)\n",
        "exp.as_pyplot_figure()"
      ],
      "metadata": {
        "colab": {
          "base_uri": "https://localhost:8080/",
          "height": 600
        },
        "id": "BocXYaSsiDQm",
        "outputId": "34ca78af-362b-46ea-fb44-bc8b3e6128bc"
      },
      "execution_count": 42,
      "outputs": [
        {
          "output_type": "stream",
          "name": "stderr",
          "text": [
            "/usr/local/lib/python3.7/dist-packages/sklearn/base.py:451: UserWarning: X does not have valid feature names, but KNeighborsClassifier was fitted with feature names\n",
            "  \"X does not have valid feature names, but\"\n"
          ]
        },
        {
          "output_type": "execute_result",
          "data": {
            "text/plain": [
              "<Figure size 432x288 with 1 Axes>"
            ],
            "image/png": "[encoded data removed]"
          },
          "metadata": {},
          "execution_count": 42
        },
        {
          "output_type": "display_data",
          "data": {
            "text/plain": [
              "<Figure size 432x288 with 1 Axes>"
            ],
            "image/png": "[encoded data removed]"
          },
          "metadata": {
            "needs_background": "light"
          }
        }
      ]
    },
    {
      "cell_type": "markdown",
      "source": [
        "# Sources"
      ],
      "metadata": {
        "id": "YOatHgV6b4jf"
      }
    },
    {
      "cell_type": "markdown",
      "metadata": {
        "id": "F57GKYOe4OtF"
      },
      "source": [
        "sources:\n",
        "1. how to read csv files in google colab: https://www.geeksforgeeks.org/ways-to-import-csv-files-in-google-colab/\n",
        "2. information gain https://towardsdatascience.com/select-features-for-machine-learning-model-with-mutual-information-534fe387d5c8\n",
        "2a. information to support mutual information https://machinelearningmastery.com/information-gain-and-mutual-information/\n",
        "3. bias-variance trade-off https://medium.com/30-days-of-machine-learning/day-3-k-nearest-neighbors-and-bias-variance-tradeoff-75f84d515bdb#:~:text=Bias%20is%20the%20difference%20between,avoid%2C%20which%20we%20represent%20%CF%B5.\n",
        "4. how to find the optimal value of k https://towardsdatascience.com/how-to-find-the-optimal-value-of-k-in-knn-35d936e554eb#:~:text=The%20optimal%20K%20value%20usually,be%20aware%20of%20the%20outliers.\n",
        "5. LIME code https://medium.com/dataman-in-ai/explain-your-model-with-lime-5a1a5867b423\n",
        "6. LIME module https://github.com/marcotcr/lime\n"
      ]
    }
  ],
  "metadata": {
    "colab": {
      "toc_visible": true,
      "provenance": []
    },
    "kernelspec": {
      "display_name": "Python 3",
      "name": "python3"
    },
    "language_info": {
      "name": "python"
    }
  },
  "nbformat": 4,
  "nbformat_minor": 0
}