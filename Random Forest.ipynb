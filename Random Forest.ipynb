{
 "cells": [
  {
   "cell_type": "code",
   "execution_count": 37,
   "metadata": {
    "colab": {
     "background_save": true
    },
    "id": "I1wVJXn-Jjvd"
   },
   "outputs": [],
   "source": [
    "import pandas as pd\n",
    "import numpy as np\n",
    "import matplotlib.pyplot as plot\n",
    "import seaborn as sns\n",
    "%matplotlib inline\n",
    "import warnings\n",
    "import io\n",
    "import datetime\n",
    "from sklearn.ensemble._forest import RandomForestClassifier\n",
    "from sklearn.metrics import mean_squared_error, r2_score\n",
    "from sklearn.model_selection import train_test_split\n",
    "from sklearn.metrics import accuracy_score\n",
    "from sklearn.metrics import precision_recall_fscore_support\n",
    "from sklearn.metrics import plot_confusion_matrix\n",
    "from sklearn.metrics import classification_report\n",
    "from numpy import allclose\n",
    "from sklearn.metrics import confusion_matrix\n",
    "\n",
    "import math\n",
    "import datetime\n",
    "import numpy as np \n",
    "import pandas as pd \n",
    "pd.set_option('display.float_format', '{:.2f}'.format)\n",
    "pd.set_option('display.max_rows', 100)\n",
    "import matplotlib.pyplot as plt\n",
    "plt.style.use('fivethirtyeight') \n",
    "%matplotlib inline\n",
    "import seaborn as sns\n",
    "sns.set_style('darkgrid')\n",
    "import warnings\n",
    "warnings.filterwarnings(\"ignore\")\n",
    "import plotly\n",
    "import plotly.express as px\n",
    "from plotly.subplots import make_subplots\n",
    "import plotly.graph_objs as go\n",
    "from pylab import rcParams\n",
    "\n",
    "import statsmodels.api as sm\n",
    "import statsmodels.tsa.api as smt\n",
    "import statsmodels.formula.api as smf\n",
    "from statsmodels.tsa.stattools import adfuller\n",
    "from sklearn.metrics import mean_squared_error\n",
    "\n",
    "from sklearn.metrics import roc_auc_score\n",
    "from sklearn.preprocessing import MinMaxScaler\n",
    "\n",
    "from sklearn.model_selection import StratifiedKFold\n",
    "\n",
    "warnings.filterwarnings('ignore')\n",
    "# try RFE / pca or lda"
   ]
  },
  {
   "cell_type": "code",
   "execution_count": 13,
   "metadata": {
    "colab": {
     "background_save": true,
     "base_uri": "https://localhost:8080/",
     "height": 38
    },
    "id": "GZX5rOU6J9oW",
    "outputId": "245e6c37-2861-456e-f480-15048ab0ba5a"
   },
   "outputs": [],
   "source": [
    "df=pd.read_csv('CS3244_parsed_data (2).csv', index_col = 0)"
   ]
  },
  {
   "cell_type": "code",
   "execution_count": 14,
   "metadata": {
    "id": "6BHNyVI2h4k-"
   },
   "outputs": [],
   "source": [
    "#factorization of etf names\n",
    "df['name'] = pd.factorize(df['name'])[0]"
   ]
  },
  {
   "cell_type": "code",
   "execution_count": 15,
   "metadata": {
    "id": "ufitGuU_Jjvj"
   },
   "outputs": [],
   "source": [
    "#splitting of data into training and test by time\n",
    "#date formatted as integers\n",
    "train_split_date1_start = pd.datetime(2005,1,1)\n",
    "train_split_date1_end = pd.datetime(2007,12,31)\n",
    "\n",
    "train_split_date2_start = pd.datetime(2009,1,1)\n",
    "train_split_date2_end = pd.datetime(2011,12,31)\n",
    "\n",
    "test_split_date2_start = pd.datetime(2012,1,1)\n",
    "test_split_date2_end = pd.datetime(2012,12,31)\n",
    "\n",
    "train_split_date3_start = pd.datetime(2013,1,1)\n",
    "train_split_date3_end = pd.datetime(2016,12,31)\n",
    "\n",
    "test_split_date3_start = pd.datetime(2017,1,1)\n",
    "test_split_date3_end = pd.datetime(2017,12,31)\n",
    "\n",
    "df['date'] = pd.to_datetime(df['date'],  format='%d/%m/%Y')\n",
    "\n",
    "mask_train1 = (df['date'] > train_split_date1_start) & (df['date'] <= train_split_date1_end)\n",
    "df_training1 = df.loc[mask_train1]\n",
    "\n",
    "mask_train2 = (df['date'] > train_split_date2_start) & (df['date'] <= train_split_date2_end)\n",
    "df_training2 = df.loc[mask_train2]\n",
    "mask_test2 = (df['date'] > test_split_date2_start) & (df['date'] <= test_split_date2_end)\n",
    "df_test2 = df.loc[mask_test2]\n",
    "\n",
    "mask_train3 = (df['date'] > train_split_date3_start) & (df['date'] <= train_split_date3_end)\n",
    "df_training3 = df.loc[mask_train3]\n",
    "mask_test3 = (df['date'] > test_split_date3_start) & (df['date'] <= test_split_date3_end)\n",
    "df_test3 = df.loc[mask_test3]\n",
    "\n",
    "train_data = pd.concat([df_training1, df_training2, df_training3])\n",
    "test_data = pd.concat([df_test2, df_test3])\n",
    "\n",
    "train_data['date'] = pd.to_datetime(train_data.date, format='%d/%m/%Y')\n",
    "train_data['date1'] = train_data['date'].dt.strftime('%Y-%m-%d')\n",
    "train_data['date'] = train_data['date1'].str.replace('\\D', '').astype(int)\n",
    "del(train_data['date1'])\n",
    "\n",
    "test_data['date'] = pd.to_datetime(test_data.date, format='%d/%m/%y')\n",
    "test_data['date1'] = test_data['date'].dt.strftime('%Y-%m-%d')\n",
    "test_data['date'] = test_data['date1'].str.replace('\\D', '').astype(int)\n",
    "del(test_data['date1'])"
   ]
  },
  {
   "cell_type": "code",
   "execution_count": 57,
   "metadata": {
    "id": "AzYwkXFpQXo2"
   },
   "outputs": [],
   "source": [
    "#data split arbitrarily\n",
    "x_train_alt, x_test_alt,  y_train_alt , y_test_alt = train_test_split(df.drop(['name', 'range', 'vol', 'sd7', 'vol7', 'dir7', 'tend7', 'sd30', 'vol30', 'dir30', 'tend30','RSI', 'stosc','MACD', 'dirNext1', 'dirNext7', 'dirNext30'], axis=1), df['dirNext30'], test_size=0.33, shuffle=False)\n",
    "\n",
    "x_train_alt['date'] = pd.to_datetime(x_train_alt.date, format='%d/%m/%y')\n",
    "x_train_alt['date1'] = x_train_alt['date'].dt.strftime('%Y-%m-%d')\n",
    "x_train_alt['date'] = x_train_alt['date1'].str.replace('\\D', '').astype(int)\n",
    "del(x_train_alt['date1'])\n",
    "\n",
    "x_test_alt['date'] = pd.to_datetime(x_test_alt.date, format='%d/%m/%y')\n",
    "x_test_alt['date1'] = x_test_alt['date'].dt.strftime('%Y-%m-%d')\n",
    "x_test_alt['date'] = x_test_alt['date1'].str.replace('\\D', '').astype(int)\n",
    "del(x_test_alt['date1'])"
   ]
  },
  {
   "cell_type": "code",
   "execution_count": 58,
   "metadata": {
    "id": "Z6V_aKwwJjvi"
   },
   "outputs": [],
   "source": [
    "#feature elimnation based on mutual information\n",
    "x_train = train_data.drop(['name', 'range', 'vol', 'sd7', 'vol7', 'dir7', 'tend7', 'sd30', 'vol30', 'dir30', 'tend30','RSI', 'stosc','MACD', 'dirNext1', 'dirNext7', 'dirNext30'], axis=1)\n",
    "x_test = test_data.drop(['name', 'range', 'vol', 'sd7', 'vol7', 'dir7', 'tend7', 'sd30', 'vol30', 'dir30', 'tend30','RSI', 'stosc','MACD', 'dirNext1', 'dirNext7', 'dirNext30'], axis=1)\n",
    "y_train30 = train_data['dirNext30']\n",
    "y_test30 = test_data['dirNext30']"
   ]
  },
  {
   "cell_type": "code",
   "execution_count": 18,
   "metadata": {
    "colab": {
     "base_uri": "https://localhost:8080/",
     "height": 797
    },
    "id": "v0RSSzQck23Y",
    "outputId": "cf5dcdd1-b13c-4238-d9ca-2ab634624ee8"
   },
   "outputs": [
    {
     "name": "stdout",
     "output_type": "stream",
     "text": [
      "date\n",
      "open\n",
      "close\n",
      "high\n",
      "low\n",
      "avg\n",
      "avg7\n",
      "range7\n",
      "avg30\n",
      "range30\n",
      "Feature 0: 0.004835\n",
      "Feature 1: 0.314360\n",
      "Feature 2: 0.031793\n",
      "Feature 3: 0.030668\n",
      "Feature 4: 0.004790\n",
      "Feature 5: 0.032220\n",
      "Feature 6: 0.031767\n",
      "Feature 7: 0.022284\n",
      "Feature 8: 0.002626\n",
      "Feature 9: 0.027370\n",
      "Feature 10: 0.009255\n",
      "Feature 11: 0.038210\n",
      "Feature 12: 0.002223\n",
      "Feature 13: 0.005634\n",
      "Feature 14: 0.010567\n",
      "Feature 15: 0.029246\n",
      "Feature 16: 0.009176\n",
      "Feature 17: 0.169565\n",
      "Feature 18: 0.005225\n",
      "Feature 19: 0.007155\n",
      "Feature 20: 0.010582\n",
      "Feature 21: 0.008622\n",
      "Feature 22: 0.007057\n",
      "Feature 23: 0.009909\n"
     ]
    },
    {
     "data": {
      "image/png": "[encoded data removed]",
      "text/plain": [
       "<Figure size 432x288 with 1 Axes>"
      ]
     },
     "metadata": {},
     "output_type": "display_data"
    }
   ],
   "source": [
    "#mutual information code \n",
    "from pandas import read_csv\n",
    "from sklearn.model_selection import train_test_split\n",
    "from sklearn.feature_selection import SelectKBest\n",
    "from sklearn.feature_selection import mutual_info_classif\n",
    "from matplotlib import pyplot\n",
    "\n",
    "# feature selection\n",
    "def select_features(X_train, y_train, X_test):\n",
    "\t# configure to select all features\n",
    "\tfs = SelectKBest(score_func=mutual_info_classif, k='all')\n",
    "\t# learn relationship from training data\n",
    "\tfs.fit(X_train, y_train)\n",
    "\t# transform train input data\n",
    "\tX_train_fs = fs.transform(X_train)\n",
    "\t# transform test input data\n",
    "\tX_test_fs = fs.transform(X_test)\n",
    "\treturn X_train_fs, X_test_fs, fs\n",
    "\n",
    "# split into train and test sets\n",
    "x_train_mi, x_test_mi,  y_train_mi , y_test_mi = train_test_split(df.drop(['dirNext1','dirNext7', 'dirNext30'], axis=1), df['dirNext30'], test_size=0.33, shuffle=False)\n",
    "\n",
    "x_train_mi['date'] = pd.to_datetime(x_train_mi.date, format='%d/%m/%y')\n",
    "x_train_mi['date1'] = x_train_mi['date'].dt.strftime('%Y-%m-%d')\n",
    "x_train_mi['date'] = x_train_mi['date1'].str.replace('\\D', '').astype(int)\n",
    "del(x_train_mi['date1'])\n",
    "\n",
    "x_test_mi['date'] = pd.to_datetime(x_test_mi.date, format='%d/%m/%y')\n",
    "x_test_mi['date1'] = x_test_mi['date'].dt.strftime('%Y-%m-%d')\n",
    "x_test_mi['date'] = x_test_mi['date1'].str.replace('\\D', '').astype(int)\n",
    "del(x_test_mi['date1'])\n",
    "\n",
    "for col in x_train_alt.columns:\n",
    "    print(col)\n",
    "    # feature selection\n",
    "X_train_fs, X_test_fs, fs = select_features(x_train_mi, y_train_mi, x_test_mi)\n",
    "# what are scores for the features\n",
    "for i in range(len(fs.scores_)):\n",
    "\tprint('Feature %d: %f' % (i, fs.scores_[i]))\n",
    "# plot the scores\n",
    "pyplot.bar([i for i in range(len(fs.scores_))], fs.scores_)\n",
    "pyplot.show()"
   ]
  },
  {
   "cell_type": "markdown",
   "metadata": {
    "id": "1vuoIRecvmnh"
   },
   "source": [
    "Relevant features based on information gain correspond to 1, 2, 3, 5, 6, 7, 9, 11, 15, 17\n",
    "\n",
    "keep: \n",
    "date, \n",
    "open, \n",
    "close, \n",
    "high, \n",
    "low, \n",
    "avg, \n",
    "avg7, \n",
    "range7, \n",
    "avg30, \n",
    "range30\n",
    "\n",
    "drop:\n",
    "name, \n",
    "range, \n",
    "vol, \n",
    "sd7, \n",
    "vol7, \n",
    "dir7, \n",
    "tend7, \n",
    "sd30,  \n",
    "vol30, \n",
    "dir30, \n",
    "tend30, \n",
    "RSI,\n",
    "stosc, \n",
    "MACD, "
   ]
  },
  {
   "cell_type": "code",
   "execution_count": 65,
   "metadata": {
    "id": "un1pZSpuPrKa"
   },
   "outputs": [
    {
     "name": "stdout",
     "output_type": "stream",
     "text": [
      "49.72075819969177 seconds\n"
     ]
    }
   ],
   "source": [
    "import time\n",
    "start = time.time()\n",
    "\n",
    "# enter your code here\n",
    "\n",
    "#model built on data with a 66-33 arbitrary split\n",
    "RF_Model = RandomForestClassifier(n_estimators=100, oob_score=True, min_samples_leaf = 50)\n",
    "labels = y_train_alt\n",
    "features = x_train_alt\n",
    "rfc_alt=RF_Model.fit(features, labels)\n",
    "y_test_alt_predict=rfc_alt.predict(x_test_alt)\n",
    "\n",
    "end = time.time()\n",
    "print(end - start, \"seconds\")"
   ]
  },
  {
   "cell_type": "code",
   "execution_count": 60,
   "metadata": {
    "id": "KDEsmh0-8GrA"
   },
   "outputs": [],
   "source": [
    "#model built with our time splits\n",
    "RF_Model = RandomForestClassifier(n_estimators=100, oob_score=True, min_samples_leaf = 50)\n",
    "labels = y_train30\n",
    "features = x_train\n",
    "rfc=RF_Model.fit(features, labels)\n",
    "y_test_predict=rfc.predict(x_test)"
   ]
  },
  {
   "cell_type": "code",
   "execution_count": 61,
   "metadata": {
    "colab": {
     "base_uri": "https://localhost:8080/"
    },
    "id": "ngLaRtCXR-VN",
    "outputId": "8d962337-837e-4892-fd3a-0c76398ed6ed",
    "scrolled": true
   },
   "outputs": [
    {
     "data": {
      "image/png": "[encoded data removed]",
      "text/plain": [
       "<Figure size 432x288 with 2 Axes>"
      ]
     },
     "metadata": {},
     "output_type": "display_data"
    }
   ],
   "source": [
    "#slight improvement for model built with 66-33 arbitrary split\n",
    "plot_confusion_matrix(rfc_alt, x_test_alt, y_test_alt, cmap=plt.cm.Blues, values_format='')\n",
    "plt.show()"
   ]
  },
  {
   "cell_type": "code",
   "execution_count": 62,
   "metadata": {},
   "outputs": [
    {
     "name": "stdout",
     "output_type": "stream",
     "text": [
      "              precision    recall  f1-score   support\n",
      "\n",
      "          -1       0.62      0.45      0.52     18279\n",
      "           0       0.49      0.26      0.34     23868\n",
      "           1       0.59      0.85      0.70     37738\n",
      "\n",
      "    accuracy                           0.58     79885\n",
      "   macro avg       0.57      0.52      0.52     79885\n",
      "weighted avg       0.57      0.58      0.55     79885\n",
      "\n"
     ]
    }
   ],
   "source": [
    "#slight improvement for model built with 66-33 arbitrary split\n",
    "print(classification_report(y_test_alt, y_test_alt_predict, labels=[-1, 0, 1]))"
   ]
  },
  {
   "cell_type": "code",
   "execution_count": 63,
   "metadata": {
    "colab": {
     "base_uri": "https://localhost:8080/"
    },
    "id": "T-Rpgp-29qjI",
    "outputId": "6563ccc1-52ad-4a77-c6ea-8970286e43fc"
   },
   "outputs": [
    {
     "data": {
      "image/png": "[encoded data removed]",
      "text/plain": [
       "<Figure size 432x288 with 2 Axes>"
      ]
     },
     "metadata": {},
     "output_type": "display_data"
    }
   ],
   "source": [
    "#slightly worse results for model built with our time splits\n",
    "plot_confusion_matrix(rfc, x_test, y_test30, cmap=plt.cm.Blues, values_format='')\n",
    "plt.show()"
   ]
  },
  {
   "cell_type": "code",
   "execution_count": 64,
   "metadata": {
    "scrolled": true
   },
   "outputs": [
    {
     "name": "stdout",
     "output_type": "stream",
     "text": [
      "              precision    recall  f1-score   support\n",
      "\n",
      "          -1       0.31      0.06      0.09      5579\n",
      "           0       0.43      0.10      0.16     11619\n",
      "           1       0.57      0.93      0.71     21075\n",
      "\n",
      "    accuracy                           0.55     38273\n",
      "   macro avg       0.44      0.36      0.32     38273\n",
      "weighted avg       0.49      0.55      0.45     38273\n",
      "\n"
     ]
    }
   ],
   "source": [
    "#slightly worse results for model built with our time splits\n",
    "print(classification_report(y_test30, y_test_predict, labels=[-1, 0, 1]))"
   ]
  }
 ],
 "metadata": {
  "colab": {
   "provenance": []
  },
  "kernelspec": {
   "display_name": "Python 3",
   "language": "python",
   "name": "python3"
  },
  "language_info": {
   "codemirror_mode": {
    "name": "ipython",
    "version": 3
   },
   "file_extension": ".py",
   "mimetype": "text/x-python",
   "name": "python",
   "nbconvert_exporter": "python",
   "pygments_lexer": "ipython3",
   "version": "3.7.6"
  }
 },
 "nbformat": 4,
 "nbformat_minor": 1
}
